{
 "cells": [
  {
   "cell_type": "markdown",
   "metadata": {
    "id": "LQ1H9DG5gv-j"
   },
   "source": [
    "# Problema 1:\n",
    "\n",
    "Los siguientes datos"
   ]
  },
  {
   "cell_type": "code",
   "execution_count": 1,
   "metadata": {
    "ExecuteTime": {
     "end_time": "2023-03-16T19:56:18.446534Z",
     "start_time": "2023-03-16T19:56:18.430536Z"
    },
    "id": "Ky3t7QKqhTT0"
   },
   "outputs": [],
   "source": [
    "x = np.array([ 3.8058516 ,  4.19437519,  1.37709166,  0.77009889,  5.20968912,\n",
    "        0.65358179,  3.9701773 ,  2.07495512,  3.02571317,  3.1321825 ,\n",
    "        3.10005197,  4.94755324,  2.26160675,  0.59817735,  1.19183984,\n",
    "        1.37467926, -0.61701765,  5.01024433,  3.13300185,  5.2957513 ,\n",
    "        5.49070323, -1.13532482, -0.34934039,  5.72120588,  1.23276086,\n",
    "        4.33202401,  4.00250539, -0.40665993,  1.05709082,  3.68821387,\n",
    "        1.12295318,  2.10739471,  0.53197551, -0.27389039,  1.48139076,\n",
    "        0.70014346,  2.31649553,  2.44322569,  3.86141784,  2.04558533,\n",
    "        2.98230541,  3.69456416,  2.35192256,  0.11488102,  1.24948211,\n",
    "        2.34006925,  1.45962495, -0.09042347, -0.05130358,  1.15963357,\n",
    "        0.56871108,  2.70715761,  2.47673624,  1.70400014,  1.60709535,\n",
    "       -0.40534576,  3.07910114,  0.80967033,  5.04007949,  0.11755631,\n",
    "        1.427098  , -0.07170736,  5.11381387,  3.54324208,  4.39654794,\n",
    "        0.10687046,  2.89288521,  4.23476606,  1.54499074,  2.68598353,\n",
    "       -1.02087514,  1.9960533 ,  5.24364406,  3.2185187 , -0.38242978,\n",
    "        3.49462381,  1.06077727, -0.02623431,  3.92295454,  1.48746264,\n",
    "        2.74412523, -0.29060423,  3.915251  ,  3.13072888,  3.78471126,\n",
    "       -0.26904523,  0.66725871,  2.75931047,  2.09460576,  1.15288733,\n",
    "        3.08004069,  2.51581013,  1.88470954,  3.18040196,  0.85962888,\n",
    "       -0.2126045 ,  3.2505909 ,  2.7800464 ,  1.41144019,  2.71715232])\n"
   ]
  },
  {
   "cell_type": "markdown",
   "metadata": {
    "id": "oWcdfjuShXia"
   },
   "source": [
    "es una muestra de una distribución coseno:\n",
    "$$f(x)=C\\frac{1}{2\\pi}(1+\\cos(x/a-b))$$\n",
    "para $$-\\pi < x/a-b <\\pi$$ y donde C es una constante de normalización.\n",
    "\n",
    "\"a\" se conoce como la escala y \"b\" como la localización.\n",
    "\n",
    "Estima los parámetros \"a\" y \"b\" a partir de los datos y da un intervalo de confianza para ellos del 95%."
   ]
  },
  {
   "cell_type": "markdown",
   "metadata": {},
   "source": [
    "## Respuesta:"
   ]
  },
  {
   "cell_type": "code",
   "execution_count": 3,
   "metadata": {
    "ExecuteTime": {
     "end_time": "2023-03-17T17:55:38.462157Z",
     "start_time": "2023-03-17T17:55:38.299687Z"
    }
   },
   "outputs": [
    {
     "name": "stdout",
     "output_type": "stream",
     "text": [
      "Estimación de parámetros:\n",
      "a = 1.7293715604332551, b = 1.1594507872993032, C = 0.6290858207805181\n",
      "Intervalos de confianza del 95%:\n",
      "Para a: (0.9626467025566807, 2.4960964183098295)\n",
      "Para b: (0.38293151402176173, 1.9359700605768446)\n"
     ]
    }
   ],
   "source": [
    "import numpy as np\n",
    "from scipy.optimize import curve_fit\n",
    "from scipy.stats import t, chi2\n",
    "\n",
    "# Datos\n",
    "x = np.array([ 3.8058516 ,  4.19437519,  1.37709166,  0.77009889,  5.20968912,\n",
    "        0.65358179,  3.9701773 ,  2.07495512,  3.02571317,  3.1321825 ,\n",
    "        3.10005197,  4.94755324,  2.26160675,  0.59817735,  1.19183984,\n",
    "        1.37467926, -0.61701765,  5.01024433,  3.13300185,  5.2957513 ,\n",
    "        5.49070323, -1.13532482, -0.34934039,  5.72120588,  1.23276086,\n",
    "        4.33202401,  4.00250539, -0.40665993,  1.05709082,  3.68821387,\n",
    "        1.12295318,  2.10739471,  0.53197551, -0.27389039,  1.48139076,\n",
    "        0.70014346,  2.31649553,  2.44322569,  3.86141784,  2.04558533,\n",
    "        2.98230541,  3.69456416,  2.35192256,  0.11488102,  1.24948211,\n",
    "        2.34006925,  1.45962495, -0.09042347, -0.05130358,  1.15963357,\n",
    "        0.56871108,  2.70715761,  2.47673624,  1.70400014,  1.60709535,\n",
    "       -0.40534576,  3.07910114,  0.80967033,  5.04007949,  0.11755631,\n",
    "        1.427098  , -0.07170736,  5.11381387,  3.54324208,  4.39654794,\n",
    "        0.10687046,  2.89288521,  4.23476606,  1.54499074,  2.68598353,\n",
    "       -1.02087514,  1.9960533 ,  5.24364406,  3.2185187 , -0.38242978,\n",
    "        3.49462381,  1.06077727, -0.02623431,  3.92295454,  1.48746264,\n",
    "        2.74412523, -0.29060423,  3.915251  ,  3.13072888,  3.78471126,\n",
    "       -0.26904523,  0.66725871,  2.75931047,  2.09460576,  1.15288733,\n",
    "        3.08004069,  2.51581013,  1.88470954,  3.18040196,  0.85962888,\n",
    "       -0.2126045 ,  3.2505909 ,  2.7800464 ,  1.41144019,  2.71715232])\n",
    "\n",
    "import numpy as np\n",
    "import matplotlib.pyplot as plt\n",
    "from scipy.optimize import curve_fit\n",
    "from scipy.stats import t, chi2\n",
    "\n",
    "# Creamos un histograma normalizado\n",
    "num_bins = 20  # número de bins\n",
    "hist, edges = np.histogram(x, bins=num_bins, density=True)\n",
    "bin_centers = (edges[:-1] + edges[1:]) / 2\n",
    "\n",
    "# Definir la función de distribución coseno\n",
    "def coseno(x, a, b, C):\n",
    "    return C * (1 / (2 * np.pi)) * (1 + np.cos(x / a - b))\n",
    "\n",
    "# Ajustamos el histograma a la función coseno\n",
    "popt, pcov = curve_fit(coseno, bin_centers, hist)\n",
    "\n",
    "# Extraemos los parámetros ajustados\n",
    "a, b, C = popt\n",
    "\n",
    "# Calculamos los intervalos de confianza del 95%\n",
    "alpha = 0.05  # Nivel de confianza del 95%\n",
    "n = len(x)  # Número de observaciones\n",
    "p = len(popt)  # Número de parámetros\n",
    "dof = max(0, n - p)  # Grados de libertad\n",
    "tval = t.ppf(1.0 - alpha / 2.0, dof)  # Valor t para el intervalo de confianza\n",
    "\n",
    "# Extraemos los errores estándar y calcular los márgenes de error\n",
    "sigma_ab = np.sqrt(np.diag(pcov))\n",
    "me_ab = tval * sigma_ab\n",
    "\n",
    "# Calculamos los intervalos de confianza\n",
    "ci_a = a - me_ab[0], a + me_ab[0]\n",
    "ci_b = b - me_ab[1], b + me_ab[1]\n",
    "\n",
    "# Imprimimos los resultados\n",
    "print(\"Estimación de parámetros:\")\n",
    "print(f\"a = {a}, b = {b}, C = {C}\")\n",
    "print(\"Intervalos de confianza del 95%:\")\n",
    "print(f\"Para a: {ci_a}\")\n",
    "print(f\"Para b: {ci_b}\")"
   ]
  },
  {
   "cell_type": "markdown",
   "metadata": {},
   "source": [
    "Este código crea un histograma normalizado de los datos x y ajusta la función de distribución coseno a dicho histograma. Los intervalos de confianza y las estimaciones de los parámetros se calculan de la misma manera que antes, pero ahora se basan en el histograma en lugar de los valores de y."
   ]
  },
  {
   "cell_type": "markdown",
   "metadata": {
    "id": "8Xl12azVkKOF"
   },
   "source": [
    "# Problema 2:\n",
    "\n",
    "Con la misma secuencia de datos del problema anterior x. I**magína que no conoces la distribución de donde proviene la muestra**. Estima el primer momento de la distribución $\\mu=\\bar{x}$ (promedio) y enstima el intervalo de confianza del 95%."
   ]
  },
  {
   "cell_type": "markdown",
   "metadata": {},
   "source": [
    "## Respuesta:"
   ]
  },
  {
   "cell_type": "code",
   "execution_count": 4,
   "metadata": {
    "ExecuteTime": {
     "end_time": "2023-03-17T18:00:35.305335Z",
     "start_time": "2023-03-17T18:00:35.273633Z"
    }
   },
   "outputs": [
    {
     "name": "stdout",
     "output_type": "stream",
     "text": [
      "Estimación del promedio:\n",
      "mu = 2.1342042433999997\n",
      "Intervalo de confianza del 95%:\n",
      "(1.795202751766069, 2.4732057350339307)\n"
     ]
    }
   ],
   "source": [
    "import numpy as np\n",
    "from scipy.stats import sem, t\n",
    "\n",
    "# Calculamos el promedio\n",
    "mean_x = np.mean(x)\n",
    "\n",
    "# Calculamos el error estándar de la media\n",
    "sem_x = sem(x)\n",
    "\n",
    "# Calculamos el intervalo de confianza del 95%\n",
    "alpha = 0.05  # Nivel de confianza del 95%\n",
    "n = len(x)  # Número de observaciones\n",
    "dof = n - 1  # Grados de libertad\n",
    "tval = t.ppf(1.0 - alpha / 2.0, dof)  # Valor t para el intervalo de confianza\n",
    "margin_of_error = tval * sem_x\n",
    "\n",
    "# Calculamos los límites del intervalo de confianza\n",
    "ci_lower = mean_x - margin_of_error\n",
    "ci_upper = mean_x + margin_of_error\n",
    "\n",
    "# Imprimimos los resultados\n",
    "print(\"Estimación del promedio:\")\n",
    "print(f\"mu = {mean_x}\")\n",
    "print(\"Intervalo de confianza del 95%:\")\n",
    "print(f\"({ci_lower}, {ci_upper})\")"
   ]
  },
  {
   "cell_type": "markdown",
   "metadata": {
    "id": "UMPpsFF7maAF"
   },
   "source": [
    "# Problema 3:\n",
    "\n",
    "Supongamos que deseas analizar la diferencia en las calificaciones obtenidas por tres grupos de estudiantes en un examen de matemáticas. Los grupos son: \"Grupo A\", \"Grupo B\" y \"Grupo C\". Tienes los datos de las calificaciones obtenidas por cada estudiante en un archivo CSV llamado \"calificaciones.csv\". \n",
    "\n",
    "Haz una prueba Anova para ver si hay diferencia en calificaciones de los tres grupos."
   ]
  },
  {
   "cell_type": "markdown",
   "metadata": {},
   "source": [
    "# Respuesta:"
   ]
  },
  {
   "cell_type": "code",
   "execution_count": 43,
   "metadata": {
    "ExecuteTime": {
     "end_time": "2023-03-17T20:11:58.935236Z",
     "start_time": "2023-03-17T20:11:58.910921Z"
    }
   },
   "outputs": [
    {
     "data": {
      "text/html": [
       "<div>\n",
       "<style scoped>\n",
       "    .dataframe tbody tr th:only-of-type {\n",
       "        vertical-align: middle;\n",
       "    }\n",
       "\n",
       "    .dataframe tbody tr th {\n",
       "        vertical-align: top;\n",
       "    }\n",
       "\n",
       "    .dataframe thead th {\n",
       "        text-align: right;\n",
       "    }\n",
       "</style>\n",
       "<table border=\"1\" class=\"dataframe\">\n",
       "  <thead>\n",
       "    <tr style=\"text-align: right;\">\n",
       "      <th></th>\n",
       "      <th>Grupo</th>\n",
       "      <th>Estudiante</th>\n",
       "      <th>Calificación</th>\n",
       "    </tr>\n",
       "  </thead>\n",
       "  <tbody>\n",
       "    <tr>\n",
       "      <th>0</th>\n",
       "      <td>Grupo A</td>\n",
       "      <td>Estudiante 1</td>\n",
       "      <td>8.6</td>\n",
       "    </tr>\n",
       "    <tr>\n",
       "      <th>1</th>\n",
       "      <td>Grupo A</td>\n",
       "      <td>Estudiante 2</td>\n",
       "      <td>7.9</td>\n",
       "    </tr>\n",
       "    <tr>\n",
       "      <th>2</th>\n",
       "      <td>Grupo A</td>\n",
       "      <td>Estudiante 3</td>\n",
       "      <td>6.5</td>\n",
       "    </tr>\n",
       "    <tr>\n",
       "      <th>3</th>\n",
       "      <td>Grupo A</td>\n",
       "      <td>Estudiante 4</td>\n",
       "      <td>9.1</td>\n",
       "    </tr>\n",
       "    <tr>\n",
       "      <th>4</th>\n",
       "      <td>Grupo A</td>\n",
       "      <td>Estudiante 5</td>\n",
       "      <td>8.0</td>\n",
       "    </tr>\n",
       "    <tr>\n",
       "      <th>5</th>\n",
       "      <td>Grupo A</td>\n",
       "      <td>Estudiante 6</td>\n",
       "      <td>7.2</td>\n",
       "    </tr>\n",
       "    <tr>\n",
       "      <th>6</th>\n",
       "      <td>Grupo B</td>\n",
       "      <td>Estudiante 7</td>\n",
       "      <td>6.9</td>\n",
       "    </tr>\n",
       "    <tr>\n",
       "      <th>7</th>\n",
       "      <td>Grupo B</td>\n",
       "      <td>Estudiante 8</td>\n",
       "      <td>7.4</td>\n",
       "    </tr>\n",
       "    <tr>\n",
       "      <th>8</th>\n",
       "      <td>Grupo B</td>\n",
       "      <td>Estudiante 9</td>\n",
       "      <td>8.2</td>\n",
       "    </tr>\n",
       "    <tr>\n",
       "      <th>9</th>\n",
       "      <td>Grupo B</td>\n",
       "      <td>Estudiante 10</td>\n",
       "      <td>7.8</td>\n",
       "    </tr>\n",
       "    <tr>\n",
       "      <th>10</th>\n",
       "      <td>Grupo B</td>\n",
       "      <td>Estudiante 11</td>\n",
       "      <td>6.7</td>\n",
       "    </tr>\n",
       "    <tr>\n",
       "      <th>11</th>\n",
       "      <td>Grupo B</td>\n",
       "      <td>Estudiante 12</td>\n",
       "      <td>8.3</td>\n",
       "    </tr>\n",
       "    <tr>\n",
       "      <th>12</th>\n",
       "      <td>Grupo C</td>\n",
       "      <td>Estudiante 13</td>\n",
       "      <td>9.2</td>\n",
       "    </tr>\n",
       "    <tr>\n",
       "      <th>13</th>\n",
       "      <td>Grupo C</td>\n",
       "      <td>Estudiante 14</td>\n",
       "      <td>8.6</td>\n",
       "    </tr>\n",
       "    <tr>\n",
       "      <th>14</th>\n",
       "      <td>Grupo C</td>\n",
       "      <td>Estudiante 15</td>\n",
       "      <td>7.7</td>\n",
       "    </tr>\n",
       "    <tr>\n",
       "      <th>15</th>\n",
       "      <td>Grupo C</td>\n",
       "      <td>Estudiante 16</td>\n",
       "      <td>8.9</td>\n",
       "    </tr>\n",
       "    <tr>\n",
       "      <th>16</th>\n",
       "      <td>Grupo C</td>\n",
       "      <td>Estudiante 17</td>\n",
       "      <td>9.0</td>\n",
       "    </tr>\n",
       "    <tr>\n",
       "      <th>17</th>\n",
       "      <td>Grupo C</td>\n",
       "      <td>Estudiante 18</td>\n",
       "      <td>9.5</td>\n",
       "    </tr>\n",
       "  </tbody>\n",
       "</table>\n",
       "</div>"
      ],
      "text/plain": [
       "      Grupo     Estudiante  Calificación\n",
       "0   Grupo A   Estudiante 1           8.6\n",
       "1   Grupo A   Estudiante 2           7.9\n",
       "2   Grupo A   Estudiante 3           6.5\n",
       "3   Grupo A   Estudiante 4           9.1\n",
       "4   Grupo A   Estudiante 5           8.0\n",
       "5   Grupo A   Estudiante 6           7.2\n",
       "6   Grupo B   Estudiante 7           6.9\n",
       "7   Grupo B   Estudiante 8           7.4\n",
       "8   Grupo B   Estudiante 9           8.2\n",
       "9   Grupo B  Estudiante 10           7.8\n",
       "10  Grupo B  Estudiante 11           6.7\n",
       "11  Grupo B  Estudiante 12           8.3\n",
       "12  Grupo C  Estudiante 13           9.2\n",
       "13  Grupo C  Estudiante 14           8.6\n",
       "14  Grupo C  Estudiante 15           7.7\n",
       "15  Grupo C  Estudiante 16           8.9\n",
       "16  Grupo C  Estudiante 17           9.0\n",
       "17  Grupo C  Estudiante 18           9.5"
      ]
     },
     "execution_count": 43,
     "metadata": {},
     "output_type": "execute_result"
    }
   ],
   "source": [
    "import pandas as pd\n",
    "import numpy as np\n",
    "import scipy.stats as stats\n",
    "\n",
    "# Importamos los datos\n",
    "calificaciones = pd.read_csv('calificaciones.csv')\n",
    "calificaciones"
   ]
  },
  {
   "cell_type": "code",
   "execution_count": 37,
   "metadata": {
    "ExecuteTime": {
     "end_time": "2023-03-17T18:45:20.197589Z",
     "start_time": "2023-03-17T18:45:20.182184Z"
    }
   },
   "outputs": [
    {
     "name": "stdout",
     "output_type": "stream",
     "text": [
      "[8.6 7.9 6.5 9.1 8.  7.2] [6.9 7.4 8.2 7.8 6.7 8.3] [9.2 8.6 7.7 8.9 9.  9.5]\n"
     ]
    }
   ],
   "source": [
    "#Agrupamos por grupos\n",
    "grouped = calificaciones.groupby('Grupo')\n",
    "\n",
    "#Sacamos los valores del grupo A\n",
    "groupA = grouped.get_group('Grupo A')\n",
    "column_name = 'Calificación'\n",
    "valuesA = groupA[column_name].to_numpy()\n",
    "\n",
    "#Sacamos los valores del grupo B\n",
    "groupB = grouped.get_group('Grupo B')\n",
    "valuesB = groupB[column_name].to_numpy()\n",
    "\n",
    "#Sacamos los valores del grupo C\n",
    "groupC = grouped.get_group('Grupo C')\n",
    "valuesC = groupC[column_name].to_numpy()\n",
    "print(valuesA, valuesB, valuesC)\n"
   ]
  },
  {
   "cell_type": "code",
   "execution_count": 44,
   "metadata": {
    "ExecuteTime": {
     "end_time": "2023-03-17T20:13:08.101512Z",
     "start_time": "2023-03-17T20:13:08.078184Z"
    }
   },
   "outputs": [
    {
     "name": "stdout",
     "output_type": "stream",
     "text": [
      "Resultados de la prueba ANOVA:\n",
      "F-value: 7.068004927487539\n",
      "P-value: 0.006877947837761902\n",
      "Se rechaza la hipótesis nula. Existen diferencias significativas entre los grupos.\n"
     ]
    }
   ],
   "source": [
    "\n",
    "# Realizamos la prueba ANOVA\n",
    "f_value, p_value = stats.f_oneway(valuesA, valuesB, valuesC)\n",
    "\n",
    "# Imprimimos los resultados\n",
    "print(\"Resultados de la prueba ANOVA:\")\n",
    "print(f\"F-value: {f_value}\")\n",
    "print(f\"P-value: {p_value}\")\n",
    "\n",
    "# Interpretamos el P-value\n",
    "alpha = 0.05\n",
    "if p_value < alpha:\n",
    "    print(\"Se rechaza la hipótesis nula. Existen diferencias significativas entre los grupos.\")\n",
    "else:\n",
    "    print(\"No se rechaza la hipótesis nula. No hay diferencias significativas entre los grupos.\")\n"
   ]
  },
  {
   "cell_type": "markdown",
   "metadata": {
    "id": "6Kzl2eSnnQQK"
   },
   "source": [
    "# Problema 4:\n",
    "\n",
    "Supongamos que tienes dos grupos de datos: \"Grupo A\" y \"Grupo B\", y deseas determinar si hay una diferencia significativa entre las medianas de ambos grupos. No sabes si los datos provienene de distribución normal.\n",
    "\n",
    "a) Has una prueba gráfica y una prueba de hipótsis para saber si los datos tienen una distribución normal para ambos grupos.\n",
    "\n",
    "b) Emplea estadística no paramétrica para probar si hay diferencia significativa en la mediana entre ambos grupos.\n",
    "\n",
    "Los datos están en el archivo datos.csv"
   ]
  },
  {
   "cell_type": "markdown",
   "metadata": {},
   "source": [
    "## Respuesta:"
   ]
  },
  {
   "cell_type": "markdown",
   "metadata": {},
   "source": [
    "### Prueba de Shapiro-Wilk\n",
    "La prueba de Shapiro-Wilk es una prueba estadística que se utiliza para evaluar si una muestra de datos proviene de una distribución normal (también conocida como gaussiana). Es una prueba de bondad de ajuste que compara los datos observados con una distribución normal teórica y determina si hay una diferencia significativa entre ellos.\n",
    "\n",
    "La prueba de Shapiro-Wilk se basa en la hipótesis nula de que la muestra sigue una distribución normal. La prueba calcula un valor estadístico (W) y un valor de probabilidad asociado (p-valor). El valor W varía entre 0 y 1, y un valor cercano a 1 sugiere que los datos siguen una distribución normal.\n",
    "\n",
    "Se compara el p-valor con un nivel de significancia predefinido (generalmente 0.05). Si el p-valor es menor que el nivel de significancia, se rechaza la hipótesis nula, lo que indica que los datos no provienen de una distribución normal. Si el p-valor es mayor que el nivel de significancia, no se puede rechazar la hipótesis nula, lo que sugiere que los datos podrían seguir una distribución normal.\n",
    "\n",
    "La prueba de Shapiro-Wilk es sensible a pequeñas desviaciones de la normalidad, por lo que puede ser útil para detectar diferencias sutiles en la distribución de los datos. Sin embargo, también puede ser más propensa a errores de tipo I (rechazar falsamente la hipótesis nula) en comparación con otras pruebas, especialmente cuando se trabaja con muestras más grandes.\n",
    "\n",
    "### Prueba de Mann-Whitney U\n",
    "\n",
    "La prueba de Mann-Whitney U, también conocida como prueba de suma de rangos de Wilcoxon o prueba de Wilcoxon-Mann-Whitney, es una prueba estadística no paramétrica que se utiliza para evaluar si hay una diferencia significativa entre las distribuciones de dos grupos independientes. A diferencia de la prueba t de Student, la prueba de Mann-Whitney U no requiere que los datos sigan una distribución normal, por lo que es especialmente útil cuando no se cumplen los supuestos necesarios para aplicar pruebas paramétricas.\n",
    "\n",
    "La prueba de Mann-Whitney U se basa en la hipótesis nula de que la probabilidad de que una observación del grupo A sea mayor que una observación del grupo B es igual a la probabilidad de que una observación del grupo B sea mayor que una observación del grupo A. En otras palabras, la hipótesis nula establece que las distribuciones de ambos grupos son iguales y no hay diferencia en sus ubicaciones (por ejemplo, medianas).\n",
    "\n",
    "Para realizar la prueba de Mann-Whitney U, primero se asignan rangos a todas las observaciones de ambos grupos combinados. Luego, se calcula la suma de los rangos para cada grupo y, a partir de estas sumas, se obtiene el estadístico U. Finalmente, se calcula un p-valor asociado a U.\n",
    "\n",
    "Si el p-valor es menor que un nivel de significancia predefinido (generalmente 0.05), se rechaza la hipótesis nula, lo que indica que hay una diferencia significativa entre las distribuciones de los dos grupos. Si el p-valor es mayor que el nivel de significancia, no se puede rechazar la hipótesis nula, lo que sugiere que no hay una diferencia significativa entre las distribuciones de ambos grupos."
   ]
  },
  {
   "cell_type": "code",
   "execution_count": 40,
   "metadata": {
    "ExecuteTime": {
     "end_time": "2023-03-17T18:48:45.161660Z",
     "start_time": "2023-03-17T18:48:45.145516Z"
    }
   },
   "outputs": [
    {
     "data": {
      "text/html": [
       "<div>\n",
       "<style scoped>\n",
       "    .dataframe tbody tr th:only-of-type {\n",
       "        vertical-align: middle;\n",
       "    }\n",
       "\n",
       "    .dataframe tbody tr th {\n",
       "        vertical-align: top;\n",
       "    }\n",
       "\n",
       "    .dataframe thead th {\n",
       "        text-align: right;\n",
       "    }\n",
       "</style>\n",
       "<table border=\"1\" class=\"dataframe\">\n",
       "  <thead>\n",
       "    <tr style=\"text-align: right;\">\n",
       "      <th></th>\n",
       "      <th>Grupo</th>\n",
       "      <th>Datos</th>\n",
       "    </tr>\n",
       "  </thead>\n",
       "  <tbody>\n",
       "    <tr>\n",
       "      <th>0</th>\n",
       "      <td>Grupo A</td>\n",
       "      <td>5.8</td>\n",
       "    </tr>\n",
       "    <tr>\n",
       "      <th>1</th>\n",
       "      <td>Grupo A</td>\n",
       "      <td>3.1</td>\n",
       "    </tr>\n",
       "    <tr>\n",
       "      <th>2</th>\n",
       "      <td>Grupo A</td>\n",
       "      <td>7.2</td>\n",
       "    </tr>\n",
       "    <tr>\n",
       "      <th>3</th>\n",
       "      <td>Grupo A</td>\n",
       "      <td>2.6</td>\n",
       "    </tr>\n",
       "    <tr>\n",
       "      <th>4</th>\n",
       "      <td>Grupo A</td>\n",
       "      <td>6.7</td>\n",
       "    </tr>\n",
       "    <tr>\n",
       "      <th>5</th>\n",
       "      <td>Grupo A</td>\n",
       "      <td>4.5</td>\n",
       "    </tr>\n",
       "    <tr>\n",
       "      <th>6</th>\n",
       "      <td>Grupo B</td>\n",
       "      <td>1.9</td>\n",
       "    </tr>\n",
       "    <tr>\n",
       "      <th>7</th>\n",
       "      <td>Grupo B</td>\n",
       "      <td>8.5</td>\n",
       "    </tr>\n",
       "    <tr>\n",
       "      <th>8</th>\n",
       "      <td>Grupo B</td>\n",
       "      <td>4.3</td>\n",
       "    </tr>\n",
       "    <tr>\n",
       "      <th>9</th>\n",
       "      <td>Grupo B</td>\n",
       "      <td>6.8</td>\n",
       "    </tr>\n",
       "    <tr>\n",
       "      <th>10</th>\n",
       "      <td>Grupo B</td>\n",
       "      <td>2.1</td>\n",
       "    </tr>\n",
       "    <tr>\n",
       "      <th>11</th>\n",
       "      <td>Grupo B</td>\n",
       "      <td>7.4</td>\n",
       "    </tr>\n",
       "  </tbody>\n",
       "</table>\n",
       "</div>"
      ],
      "text/plain": [
       "      Grupo  Datos\n",
       "0   Grupo A    5.8\n",
       "1   Grupo A    3.1\n",
       "2   Grupo A    7.2\n",
       "3   Grupo A    2.6\n",
       "4   Grupo A    6.7\n",
       "5   Grupo A    4.5\n",
       "6   Grupo B    1.9\n",
       "7   Grupo B    8.5\n",
       "8   Grupo B    4.3\n",
       "9   Grupo B    6.8\n",
       "10  Grupo B    2.1\n",
       "11  Grupo B    7.4"
      ]
     },
     "execution_count": 40,
     "metadata": {},
     "output_type": "execute_result"
    }
   ],
   "source": [
    "datos = pd.read_csv('datos.csv')\n",
    "datos"
   ]
  },
  {
   "cell_type": "code",
   "execution_count": 41,
   "metadata": {
    "ExecuteTime": {
     "end_time": "2023-03-17T18:51:13.747174Z",
     "start_time": "2023-03-17T18:51:13.722979Z"
    }
   },
   "outputs": [
    {
     "name": "stdout",
     "output_type": "stream",
     "text": [
      "[5.8 3.1 7.2 2.6 6.7 4.5] [1.9 8.5 4.3 6.8 2.1 7.4]\n"
     ]
    }
   ],
   "source": [
    "grouped = datos.groupby('Grupo')\n",
    "groupA = grouped.get_group('Grupo A')\n",
    "column_name = 'Datos'\n",
    "valuesA = groupA[column_name].to_numpy()\n",
    "groupB = grouped.get_group('Grupo B')\n",
    "valuesB = groupB[column_name].to_numpy()\n",
    "\n",
    "print(valuesA, valuesB)\n"
   ]
  },
  {
   "cell_type": "code",
   "execution_count": 42,
   "metadata": {
    "ExecuteTime": {
     "end_time": "2023-03-17T18:53:26.576072Z",
     "start_time": "2023-03-17T18:53:25.734324Z"
    }
   },
   "outputs": [
    {
     "data": {
      "image/png": "[encoded data removed]",
      "text/plain": [
       "<Figure size 1200x600 with 2 Axes>"
      ]
     },
     "metadata": {},
     "output_type": "display_data"
    },
    {
     "data": {
      "image/png": "[encoded data removed]",
      "text/plain": [
       "<Figure size 1200x600 with 2 Axes>"
      ]
     },
     "metadata": {},
     "output_type": "display_data"
    },
    {
     "name": "stdout",
     "output_type": "stream",
     "text": [
      "Prueba de Shapiro-Wilk para Grupo A: W-statistic = 0.9267434477806091, p-value = 0.5551981329917908\n",
      "Prueba de Shapiro-Wilk para Grupo B: W-statistic = 0.8947595953941345, p-value = 0.34388110041618347\n",
      "Grupo A: No se rechaza la hipótesis nula. Los datos siguen una distribución normal.\n",
      "Grupo B: No se rechaza la hipótesis nula. Los datos siguen una distribución normal.\n",
      "\n",
      "Prueba de Mann-Whitney U: U-statistic = 17.0, p-value = 0.9372294372294373\n",
      "No se rechaza la hipótesis nula. No hay una diferencia significativa en la mediana entre ambos grupos.\n"
     ]
    }
   ],
   "source": [
    "import numpy as np\n",
    "import matplotlib.pyplot as plt\n",
    "import seaborn as sns\n",
    "import scipy.stats as stats\n",
    "# a) Prueba gráfica y prueba de hipótesis para saber si los datos tienen una distribución normal\n",
    "# Histograma y gráfico Q-Q\n",
    "def plot_histogram_qq(data, group_name):\n",
    "    plt.figure(figsize=(12, 6))\n",
    "\n",
    "    plt.subplot(1, 2, 1)\n",
    "    sns.histplot(data, kde=True)\n",
    "    plt.title(f'Histograma de {group_name}')\n",
    "\n",
    "    plt.subplot(1, 2, 2)\n",
    "    stats.probplot(data, dist='norm', plot=plt)\n",
    "    plt.title(f'Gráfico Q-Q de {group_name}')\n",
    "\n",
    "    plt.show()\n",
    "\n",
    "plot_histogram_qq(valuesA, 'Grupo A')\n",
    "plot_histogram_qq(valuesB, 'Grupo B')\n",
    "\n",
    "# Prueba de Shapiro-Wilk para normalidad\n",
    "alpha = 0.05\n",
    "shapiro_A = stats.shapiro(valuesA)\n",
    "shapiro_B = stats.shapiro(valuesB)\n",
    "\n",
    "print(f\"Prueba de Shapiro-Wilk para Grupo A: W-statistic = {shapiro_A[0]}, p-value = {shapiro_A[1]}\")\n",
    "print(f\"Prueba de Shapiro-Wilk para Grupo B: W-statistic = {shapiro_B[0]}, p-value = {shapiro_B[1]}\")\n",
    "\n",
    "if shapiro_A[1] < alpha:\n",
    "    print(\"Grupo A: Se rechaza la hipótesis nula. Los datos no siguen una distribución normal.\")\n",
    "else:\n",
    "    print(\"Grupo A: No se rechaza la hipótesis nula. Los datos siguen una distribución normal.\")\n",
    "\n",
    "if shapiro_B[1] < alpha:\n",
    "    print(\"Grupo B: Se rechaza la hipótesis nula. Los datos no siguen una distribución normal.\")\n",
    "else:\n",
    "    print(\"Grupo B: No se rechaza la hipótesis nula. Los datos siguen una distribución normal.\")\n",
    "\n",
    "# b) Estadística no paramétrica para probar si hay diferencia significativa en la mediana entre ambos grupos\n",
    "# Prueba de Mann-Whitney U\n",
    "u_statistic, p_value = stats.mannwhitneyu(valuesA, valuesB)\n",
    "\n",
    "print(f\"\\nPrueba de Mann-Whitney U: U-statistic = {u_statistic}, p-value = {p_value}\")\n",
    "\n",
    "if p_value < alpha:\n",
    "    print(\"Se rechaza la hipótesis nula. Existe una diferencia significativa en la mediana entre ambos grupos.\")\n",
    "else:\n",
    "    print(\"No se rechaza la hipótesis nula. No hay una diferencia significativa en la mediana entre ambos grupos.\")"
   ]
  }
 ],
 "metadata": {
  "colab": {
   "provenance": []
  },
  "kernelspec": {
   "display_name": "Python 3 (ipykernel)",
   "language": "python",
   "name": "python3"
  },
  "language_info": {
   "codemirror_mode": {
    "name": "ipython",
    "version": 3
   },
   "file_extension": ".py",
   "mimetype": "text/x-python",
   "name": "python",
   "nbconvert_exporter": "python",
   "pygments_lexer": "ipython3",
   "version": "3.7.10"
  },
  "latex_envs": {
   "LaTeX_envs_menu_present": true,
   "autoclose": true,
   "autocomplete": true,
   "bibliofile": "biblio.bib",
   "cite_by": "apalike",
   "current_citInitial": 1,
   "eqLabelWithNumbers": true,
   "eqNumInitial": 1,
   "hotkeys": {
    "equation": "Ctrl-E",
    "itemize": "Ctrl-I"
   },
   "labels_anchors": false,
   "latex_user_defs": false,
   "report_style_numbering": true,
   "user_envs_cfg": false
  },
  "varInspector": {
   "cols": {
    "lenName": 16,
    "lenType": 16,
    "lenVar": 40
   },
   "kernels_config": {
    "python": {
     "delete_cmd_postfix": "",
     "delete_cmd_prefix": "del ",
     "library": "var_list.py",
     "varRefreshCmd": "print(var_dic_list())"
    },
    "r": {
     "delete_cmd_postfix": ") ",
     "delete_cmd_prefix": "rm(",
     "library": "var_list.r",
     "varRefreshCmd": "cat(var_dic_list()) "
    }
   },
   "types_to_exclude": [
    "module",
    "function",
    "builtin_function_or_method",
    "instance",
    "_Feature"
   ],
   "window_display": false
  }
 },
 "nbformat": 4,
 "nbformat_minor": 1
}
